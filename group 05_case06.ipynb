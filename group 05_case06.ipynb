{
 "cells": [
  {
   "cell_type": "code",
   "execution_count": 1,
   "id": "614d85a9",
   "metadata": {},
   "outputs": [],
   "source": [
    "import numpy as np # linear algebra\n",
    "import pandas as pd # data processing, CSV file I/O (e.g. pd.read_csv)\n",
    "import matplotlib.pyplot as plt\n",
    "import seaborn as sns"
   ]
  },
  {
   "cell_type": "code",
   "execution_count": 6,
   "id": "93e413a3",
   "metadata": {},
   "outputs": [
    {
     "data": {
      "text/html": [
       "<div>\n",
       "<style scoped>\n",
       "    .dataframe tbody tr th:only-of-type {\n",
       "        vertical-align: middle;\n",
       "    }\n",
       "\n",
       "    .dataframe tbody tr th {\n",
       "        vertical-align: top;\n",
       "    }\n",
       "\n",
       "    .dataframe thead th {\n",
       "        text-align: right;\n",
       "    }\n",
       "</style>\n",
       "<table border=\"1\" class=\"dataframe\">\n",
       "  <thead>\n",
       "    <tr style=\"text-align: right;\">\n",
       "      <th></th>\n",
       "      <th>CustomerID</th>\n",
       "      <th>Age</th>\n",
       "      <th>Income (INR) (in lakhs per annum)</th>\n",
       "      <th>Demography</th>\n",
       "      <th>Gender</th>\n",
       "    </tr>\n",
       "  </thead>\n",
       "  <tbody>\n",
       "    <tr>\n",
       "      <th>0</th>\n",
       "      <td>CUS1</td>\n",
       "      <td>25</td>\n",
       "      <td>5</td>\n",
       "      <td>Rural</td>\n",
       "      <td>Female</td>\n",
       "    </tr>\n",
       "    <tr>\n",
       "      <th>1</th>\n",
       "      <td>CUS2</td>\n",
       "      <td>30</td>\n",
       "      <td>10</td>\n",
       "      <td>Urban</td>\n",
       "      <td>Male</td>\n",
       "    </tr>\n",
       "    <tr>\n",
       "      <th>2</th>\n",
       "      <td>CUS3</td>\n",
       "      <td>25</td>\n",
       "      <td>8</td>\n",
       "      <td>Rural</td>\n",
       "      <td>Female</td>\n",
       "    </tr>\n",
       "    <tr>\n",
       "      <th>3</th>\n",
       "      <td>CUS4</td>\n",
       "      <td>35</td>\n",
       "      <td>15</td>\n",
       "      <td>Rural</td>\n",
       "      <td>Female</td>\n",
       "    </tr>\n",
       "    <tr>\n",
       "      <th>4</th>\n",
       "      <td>CUS5</td>\n",
       "      <td>45</td>\n",
       "      <td>15</td>\n",
       "      <td>Urban</td>\n",
       "      <td>Male</td>\n",
       "    </tr>\n",
       "  </tbody>\n",
       "</table>\n",
       "</div>"
      ],
      "text/plain": [
       "  CustomerID  Age  Income (INR) (in lakhs per annum) Demography  Gender\n",
       "0       CUS1   25                                  5      Rural  Female\n",
       "1       CUS2   30                                 10      Urban    Male\n",
       "2       CUS3   25                                  8      Rural  Female\n",
       "3       CUS4   35                                 15      Rural  Female\n",
       "4       CUS5   45                                 15      Urban    Male"
      ]
     },
     "execution_count": 6,
     "metadata": {},
     "output_type": "execute_result"
    }
   ],
   "source": [
    "df = pd.read_csv(\"C://Users//Karishma P//OneDrive//Desktop//case6-1.csv\")\n",
    "df.head()\n"
   ]
  },
  {
   "cell_type": "code",
   "execution_count": 7,
   "id": "0b377c70",
   "metadata": {},
   "outputs": [
    {
     "data": {
      "text/plain": [
       "(8, 5)"
      ]
     },
     "execution_count": 7,
     "metadata": {},
     "output_type": "execute_result"
    }
   ],
   "source": [
    "df.shape"
   ]
  },
  {
   "cell_type": "code",
   "execution_count": 8,
   "id": "cf9efcc6",
   "metadata": {},
   "outputs": [
    {
     "data": {
      "text/plain": [
       "<bound method DataFrame.info of   CustomerID  Age  Income (INR) (in lakhs per annum) Demography  Gender\n",
       "0       CUS1   25                                  5      Rural  Female\n",
       "1       CUS2   30                                 10      Urban    Male\n",
       "2       CUS3   25                                  8      Rural  Female\n",
       "3       CUS4   35                                 15      Rural  Female\n",
       "4       CUS5   45                                 15      Urban    Male\n",
       "5       CUS6   20                                  5      Urban    Male\n",
       "6       CUS7   50                                 20      Urban    Male\n",
       "7       CUS8   40                                 10      Urban  Female>"
      ]
     },
     "execution_count": 8,
     "metadata": {},
     "output_type": "execute_result"
    }
   ],
   "source": [
    "df.info"
   ]
  },
  {
   "cell_type": "code",
   "execution_count": 9,
   "id": "0b64c4ce",
   "metadata": {},
   "outputs": [
    {
     "name": "stdout",
     "output_type": "stream",
     "text": [
      "CustomerID                           0\n",
      "Age                                  0\n",
      "Income (INR) (in lakhs per annum)    0\n",
      "Demography                           0\n",
      "Gender                               0\n",
      "dtype: int64\n"
     ]
    }
   ],
   "source": [
    "print(df.isna().sum())"
   ]
  },
  {
   "cell_type": "code",
   "execution_count": 41,
   "id": "53319d28",
   "metadata": {},
   "outputs": [],
   "source": [
    "from sklearn.preprocessing import StandardScaler\n",
    "ss= StandardScaler()\n",
    "df[\"age_sc\"]=ss.fit_transform(df[['Age']])\n",
    "\n"
   ]
  },
  {
   "cell_type": "code",
   "execution_count": 42,
   "id": "a30df269",
   "metadata": {},
   "outputs": [
    {
     "data": {
      "text/html": [
       "<div>\n",
       "<style scoped>\n",
       "    .dataframe tbody tr th:only-of-type {\n",
       "        vertical-align: middle;\n",
       "    }\n",
       "\n",
       "    .dataframe tbody tr th {\n",
       "        vertical-align: top;\n",
       "    }\n",
       "\n",
       "    .dataframe thead th {\n",
       "        text-align: right;\n",
       "    }\n",
       "</style>\n",
       "<table border=\"1\" class=\"dataframe\">\n",
       "  <thead>\n",
       "    <tr style=\"text-align: right;\">\n",
       "      <th></th>\n",
       "      <th>CustomerID</th>\n",
       "      <th>Age</th>\n",
       "      <th>Income (INR) (in lakhs per annum)</th>\n",
       "      <th>Demography</th>\n",
       "      <th>Gender</th>\n",
       "      <th>age_sc</th>\n",
       "      <th>Sex_Enc</th>\n",
       "      <th>Dem_Enc</th>\n",
       "    </tr>\n",
       "  </thead>\n",
       "  <tbody>\n",
       "    <tr>\n",
       "      <th>0</th>\n",
       "      <td>CUS1</td>\n",
       "      <td>25</td>\n",
       "      <td>5</td>\n",
       "      <td>Rural</td>\n",
       "      <td>Female</td>\n",
       "      <td>-0.881917</td>\n",
       "      <td>1</td>\n",
       "      <td>0</td>\n",
       "    </tr>\n",
       "    <tr>\n",
       "      <th>1</th>\n",
       "      <td>CUS2</td>\n",
       "      <td>30</td>\n",
       "      <td>10</td>\n",
       "      <td>Urban</td>\n",
       "      <td>Male</td>\n",
       "      <td>-0.377964</td>\n",
       "      <td>0</td>\n",
       "      <td>1</td>\n",
       "    </tr>\n",
       "  </tbody>\n",
       "</table>\n",
       "</div>"
      ],
      "text/plain": [
       "  CustomerID  Age  Income (INR) (in lakhs per annum) Demography  Gender  \\\n",
       "0       CUS1   25                                  5      Rural  Female   \n",
       "1       CUS2   30                                 10      Urban    Male   \n",
       "\n",
       "     age_sc  Sex_Enc  Dem_Enc  \n",
       "0 -0.881917        1        0  \n",
       "1 -0.377964        0        1  "
      ]
     },
     "execution_count": 42,
     "metadata": {},
     "output_type": "execute_result"
    }
   ],
   "source": [
    "df.head(2)"
   ]
  },
  {
   "cell_type": "code",
   "execution_count": 14,
   "id": "6e0f6f1f",
   "metadata": {},
   "outputs": [],
   "source": [
    "from sklearn.preprocessing import LabelEncoder\n",
    "le=LabelEncoder()\n",
    "\n",
    "df['Sex_Enc']=le.fit_transform(df['Gender'])\n",
    "df['Dem_Enc']=le.fit_transform(df['Demography'])"
   ]
  },
  {
   "cell_type": "code",
   "execution_count": 17,
   "id": "7807a014",
   "metadata": {},
   "outputs": [],
   "source": [
    "df['Sex_Enc'] = df['Gender'].map({'Male':0, 'Female':1,}).astype(int)\n",
    "df['Dem_Enc'] = df['Demography'].map({'Rural':0, 'Urban':1,}).astype(int)"
   ]
  },
  {
   "cell_type": "code",
   "execution_count": 46,
   "id": "6733341c",
   "metadata": {},
   "outputs": [
    {
     "data": {
      "text/html": [
       "<div>\n",
       "<style scoped>\n",
       "    .dataframe tbody tr th:only-of-type {\n",
       "        vertical-align: middle;\n",
       "    }\n",
       "\n",
       "    .dataframe tbody tr th {\n",
       "        vertical-align: top;\n",
       "    }\n",
       "\n",
       "    .dataframe thead th {\n",
       "        text-align: right;\n",
       "    }\n",
       "</style>\n",
       "<table border=\"1\" class=\"dataframe\">\n",
       "  <thead>\n",
       "    <tr style=\"text-align: right;\">\n",
       "      <th></th>\n",
       "      <th>CustomerID</th>\n",
       "      <th>Age</th>\n",
       "      <th>Income (INR) (in lakhs per annum)</th>\n",
       "      <th>Demography</th>\n",
       "      <th>Gender</th>\n",
       "      <th>age_sc</th>\n",
       "      <th>Sex_Enc</th>\n",
       "      <th>Dem_Enc</th>\n",
       "    </tr>\n",
       "  </thead>\n",
       "  <tbody>\n",
       "    <tr>\n",
       "      <th>0</th>\n",
       "      <td>CUS1</td>\n",
       "      <td>25</td>\n",
       "      <td>5</td>\n",
       "      <td>Rural</td>\n",
       "      <td>Female</td>\n",
       "      <td>-0.881917</td>\n",
       "      <td>1</td>\n",
       "      <td>0</td>\n",
       "    </tr>\n",
       "    <tr>\n",
       "      <th>1</th>\n",
       "      <td>CUS2</td>\n",
       "      <td>30</td>\n",
       "      <td>10</td>\n",
       "      <td>Urban</td>\n",
       "      <td>Male</td>\n",
       "      <td>-0.377964</td>\n",
       "      <td>0</td>\n",
       "      <td>1</td>\n",
       "    </tr>\n",
       "    <tr>\n",
       "      <th>2</th>\n",
       "      <td>CUS3</td>\n",
       "      <td>25</td>\n",
       "      <td>8</td>\n",
       "      <td>Rural</td>\n",
       "      <td>Female</td>\n",
       "      <td>-0.881917</td>\n",
       "      <td>1</td>\n",
       "      <td>0</td>\n",
       "    </tr>\n",
       "    <tr>\n",
       "      <th>3</th>\n",
       "      <td>CUS4</td>\n",
       "      <td>35</td>\n",
       "      <td>15</td>\n",
       "      <td>Rural</td>\n",
       "      <td>Female</td>\n",
       "      <td>0.125988</td>\n",
       "      <td>1</td>\n",
       "      <td>0</td>\n",
       "    </tr>\n",
       "    <tr>\n",
       "      <th>4</th>\n",
       "      <td>CUS5</td>\n",
       "      <td>45</td>\n",
       "      <td>15</td>\n",
       "      <td>Urban</td>\n",
       "      <td>Male</td>\n",
       "      <td>1.133893</td>\n",
       "      <td>0</td>\n",
       "      <td>1</td>\n",
       "    </tr>\n",
       "  </tbody>\n",
       "</table>\n",
       "</div>"
      ],
      "text/plain": [
       "  CustomerID  Age  Income (INR) (in lakhs per annum) Demography  Gender  \\\n",
       "0       CUS1   25                                  5      Rural  Female   \n",
       "1       CUS2   30                                 10      Urban    Male   \n",
       "2       CUS3   25                                  8      Rural  Female   \n",
       "3       CUS4   35                                 15      Rural  Female   \n",
       "4       CUS5   45                                 15      Urban    Male   \n",
       "\n",
       "     age_sc  Sex_Enc  Dem_Enc  \n",
       "0 -0.881917        1        0  \n",
       "1 -0.377964        0        1  \n",
       "2 -0.881917        1        0  \n",
       "3  0.125988        1        0  \n",
       "4  1.133893        0        1  "
      ]
     },
     "execution_count": 46,
     "metadata": {},
     "output_type": "execute_result"
    }
   ],
   "source": [
    "df.head()"
   ]
  },
  {
   "cell_type": "code",
   "execution_count": 47,
   "id": "95fbd5b2",
   "metadata": {},
   "outputs": [],
   "source": [
    "df.columns = df.columns.str.strip() "
   ]
  },
  {
   "cell_type": "code",
   "execution_count": 48,
   "id": "34c704b7",
   "metadata": {},
   "outputs": [
    {
     "data": {
      "text/plain": [
       "Index(['CustomerID', 'Age', 'Income (INR) (in lakhs per annum)', 'Demography',\n",
       "       'Gender', 'age_sc', 'Sex_Enc', 'Dem_Enc'],\n",
       "      dtype='object')"
      ]
     },
     "execution_count": 48,
     "metadata": {},
     "output_type": "execute_result"
    }
   ],
   "source": [
    "df.columns"
   ]
  },
  {
   "cell_type": "code",
   "execution_count": 52,
   "id": "5419820a",
   "metadata": {},
   "outputs": [],
   "source": [
    "from sklearn.datasets import make_blobs\n",
    "raw_data = make_blobs(n_samples = 200, n_features = 2, centers = 4, cluster_std = 1.8)"
   ]
  },
  {
   "cell_type": "code",
   "execution_count": 53,
   "id": "bedfdc66",
   "metadata": {},
   "outputs": [
    {
     "data": {
      "text/plain": [
       "(array([[-3.39274756e+00, -4.56093846e+00],\n",
       "        [-7.72912038e+00,  5.20203934e+00],\n",
       "        [-6.65943334e+00,  5.56470829e+00],\n",
       "        [-4.60149296e+00, -1.69530277e+00],\n",
       "        [ 1.35185523e-01,  2.17005022e+00],\n",
       "        [-1.97628189e-01, -2.05389149e-01],\n",
       "        [-2.64755386e-01,  1.34696651e+00],\n",
       "        [-8.65836149e+00, -3.12059792e+00],\n",
       "        [-5.47687206e+00,  1.77770863e+00],\n",
       "        [ 6.38525176e-01, -2.65792907e-01],\n",
       "        [-3.41318409e+00, -2.82421999e+00],\n",
       "        [ 2.28327919e+00, -5.08665916e-01],\n",
       "        [-4.63078184e+00,  3.94459913e+00],\n",
       "        [-2.28813266e+00,  6.30409500e+00],\n",
       "        [-9.02415387e+00,  2.42739938e+00],\n",
       "        [-8.06375396e-01, -8.76307387e-02],\n",
       "        [-5.85345362e+00,  5.78545251e+00],\n",
       "        [-3.52532156e+00, -2.10768639e+00],\n",
       "        [ 8.76064895e-02, -1.19463851e+00],\n",
       "        [ 1.87764292e+00,  1.48813985e+00],\n",
       "        [-5.01388083e+00, -2.12366284e+00],\n",
       "        [-3.26872467e+00, -1.74287298e+00],\n",
       "        [-3.63822515e+00,  4.49635791e+00],\n",
       "        [-4.50704578e+00, -3.33323570e+00],\n",
       "        [ 1.66531981e+00, -1.81088176e+00],\n",
       "        [-5.27412331e+00,  4.69251642e+00],\n",
       "        [-1.93280027e+00,  1.61317933e+00],\n",
       "        [-8.55285395e+00,  2.07841416e+00],\n",
       "        [-1.15245664e+01, -3.71320369e+00],\n",
       "        [ 3.96801420e+00,  3.63882913e+00],\n",
       "        [-3.87072468e+00,  6.56360235e+00],\n",
       "        [ 2.62256047e-01,  7.33704432e-01],\n",
       "        [-9.77058626e-01, -3.83501508e-01],\n",
       "        [-2.97372732e+00, -4.86453629e-01],\n",
       "        [-8.26499361e+00, -5.09691584e-01],\n",
       "        [-5.66771140e+00,  7.90431460e+00],\n",
       "        [-7.50230566e+00,  5.25474697e+00],\n",
       "        [ 8.13146442e-01,  2.40448294e+00],\n",
       "        [-3.56261594e+00, -1.57680751e+00],\n",
       "        [-3.87192352e+00, -2.61806060e+00],\n",
       "        [-1.28225381e+01,  2.46482477e-01],\n",
       "        [-5.77367950e+00, -3.65661563e+00],\n",
       "        [-7.20578170e+00, -5.97407522e+00],\n",
       "        [-6.37388376e+00, -3.07759097e+00],\n",
       "        [-8.04335219e+00, -5.85307211e-02],\n",
       "        [-4.62993603e+00,  7.62874539e+00],\n",
       "        [-8.11815754e+00,  1.25043222e+00],\n",
       "        [-7.88807564e+00, -4.91282002e-01],\n",
       "        [-4.84743057e+00, -7.14928689e-01],\n",
       "        [-8.83809940e+00,  9.45852021e-01],\n",
       "        [ 3.71540951e-01,  8.52006993e-01],\n",
       "        [-1.15924116e+01, -1.35680501e+00],\n",
       "        [-4.97805690e+00, -2.80250945e+00],\n",
       "        [ 1.27134592e+00,  1.59139447e+00],\n",
       "        [-5.00586765e+00,  4.04672238e-01],\n",
       "        [-3.34578819e+00,  6.41390864e+00],\n",
       "        [-6.51381200e+00, -3.12632621e+00],\n",
       "        [-6.13204354e+00, -4.97875217e+00],\n",
       "        [-7.30686627e+00,  7.93572514e+00],\n",
       "        [ 4.55434324e-01,  2.59020661e+00],\n",
       "        [-1.03600972e+01, -3.09777630e+00],\n",
       "        [-6.63582219e+00,  8.03195990e+00],\n",
       "        [-1.25263993e+01, -3.44107905e+00],\n",
       "        [ 3.62799434e+00, -2.30375694e+00],\n",
       "        [-7.68543769e+00, -2.30468139e+00],\n",
       "        [ 1.28132900e+00,  2.24583063e+00],\n",
       "        [-6.20730068e+00,  4.50952210e+00],\n",
       "        [-4.27715628e+00,  5.55358322e+00],\n",
       "        [-2.71882090e+00, -4.24192956e+00],\n",
       "        [-4.89622468e+00,  6.31341782e+00],\n",
       "        [ 2.95306867e+00, -4.81449967e-01],\n",
       "        [-1.06007010e+00,  3.31703431e-01],\n",
       "        [-7.80997420e+00,  6.05170831e+00],\n",
       "        [-9.30749313e+00, -2.85797589e+00],\n",
       "        [-1.40409634e+00,  1.74093712e+00],\n",
       "        [-3.22920764e+00,  4.84999080e+00],\n",
       "        [-4.95126780e+00,  4.12724511e+00],\n",
       "        [-7.19872525e+00,  5.69338083e+00],\n",
       "        [-7.73745465e+00, -2.13147275e+00],\n",
       "        [-2.83702466e+00,  4.89135970e+00],\n",
       "        [ 7.61468044e-01,  6.09339449e-01],\n",
       "        [-8.31981454e+00, -1.55934226e+00],\n",
       "        [-6.03630322e+00, -2.34998979e+00],\n",
       "        [-7.80634243e+00,  4.87582934e+00],\n",
       "        [-7.08593663e+00, -2.92567244e-01],\n",
       "        [-9.65482986e+00, -3.90374348e+00],\n",
       "        [-6.19834910e+00,  9.87929435e-01],\n",
       "        [ 1.02611885e+00,  4.53202641e-01],\n",
       "        [-5.12319291e+00, -2.28414597e+00],\n",
       "        [-8.03520348e+00,  5.38224009e+00],\n",
       "        [ 2.45395173e+00,  3.17037659e+00],\n",
       "        [-7.05832383e+00, -3.49370012e+00],\n",
       "        [-8.17684454e+00,  9.15719827e+00],\n",
       "        [-7.00722024e+00,  3.15984370e-01],\n",
       "        [-7.97706983e+00,  5.53206167e+00],\n",
       "        [ 2.81357719e+00,  2.74167610e+00],\n",
       "        [-5.14238732e+00,  6.85629166e+00],\n",
       "        [-6.50460992e+00,  4.98798433e+00],\n",
       "        [-9.84980793e+00, -2.42924065e+00],\n",
       "        [-1.06611202e+01,  2.91663243e-01],\n",
       "        [-7.20171732e+00,  7.90064062e+00],\n",
       "        [-8.63218699e+00, -1.28387976e+00],\n",
       "        [-1.07184710e+01, -3.77495227e-01],\n",
       "        [-4.87336419e+00, -2.19066041e+00],\n",
       "        [-4.35745614e+00, -2.86247145e+00],\n",
       "        [-8.82995571e+00,  4.95012553e+00],\n",
       "        [-9.14268640e+00, -1.93334349e+00],\n",
       "        [-2.72315743e+00,  1.28750060e+00],\n",
       "        [-5.44059335e+00, -2.18552334e+00],\n",
       "        [ 2.79991189e-01,  8.22123877e-01],\n",
       "        [-6.74201324e+00, -5.01469039e+00],\n",
       "        [-4.86549520e+00, -2.66522179e+00],\n",
       "        [-1.07401243e+00,  3.58870194e+00],\n",
       "        [-5.05207871e+00, -5.02430846e+00],\n",
       "        [-9.33536193e+00, -3.17517060e+00],\n",
       "        [-8.74667230e+00,  1.24236508e+00],\n",
       "        [-7.62315404e+00,  4.88803552e-01],\n",
       "        [-3.63099598e+00, -9.85381718e-01],\n",
       "        [-5.19128057e+00, -1.32155947e+00],\n",
       "        [-4.61182595e+00, -2.34928278e+00],\n",
       "        [-5.93258509e+00,  3.08356500e+00],\n",
       "        [-7.35070734e+00,  1.84597793e+00],\n",
       "        [-8.97449331e+00, -4.16448800e+00],\n",
       "        [-7.92745262e+00,  7.40036048e+00],\n",
       "        [ 7.77408811e-01,  6.58447195e+00],\n",
       "        [-8.68779089e+00, -9.56578854e-01],\n",
       "        [ 2.93371196e+00,  2.21467250e+00],\n",
       "        [-6.58409520e+00, -4.20226454e+00],\n",
       "        [-6.40030970e+00, -5.88607724e+00],\n",
       "        [ 3.48425574e+00, -4.14637879e-03],\n",
       "        [-9.38319025e+00,  7.83196794e+00],\n",
       "        [-5.58342433e+00,  5.71402049e+00],\n",
       "        [-1.23035017e+01, -1.26823685e+00],\n",
       "        [-5.94206524e+00,  6.04069445e-01],\n",
       "        [-3.46573102e+00, -1.48387862e+00],\n",
       "        [-1.16222742e+01,  2.31868672e+00],\n",
       "        [-5.60245381e+00, -1.85288079e+00],\n",
       "        [-3.55192048e+00,  7.25625303e+00],\n",
       "        [-9.01646310e+00,  1.79653454e+00],\n",
       "        [-9.10929289e+00, -9.13971777e-01],\n",
       "        [-2.41947512e+00,  1.12273633e+00],\n",
       "        [-5.35919765e+00, -4.13192642e+00],\n",
       "        [-3.60539430e+00,  6.06171930e+00],\n",
       "        [-5.90878145e+00,  7.73775368e+00],\n",
       "        [-1.12035089e+01, -8.81575403e-01],\n",
       "        [-8.44247174e+00,  3.06023860e+00],\n",
       "        [ 3.77093928e-01,  8.83315598e-01],\n",
       "        [-7.85358793e+00,  8.81449059e+00],\n",
       "        [ 2.10504603e+00,  3.09668708e+00],\n",
       "        [ 2.28531493e+00,  2.93999041e+00],\n",
       "        [-3.93337514e+00, -3.02030591e+00],\n",
       "        [-4.49849646e+00, -2.54498324e+00],\n",
       "        [ 1.11618857e+00,  1.57625005e+00],\n",
       "        [-5.08262169e+00,  7.17624001e+00],\n",
       "        [ 3.50870883e+00,  5.91451637e-01],\n",
       "        [-6.73994103e+00, -3.70601095e-01],\n",
       "        [-6.59543467e+00,  5.89418303e+00],\n",
       "        [ 6.91671891e-01,  3.17376251e+00],\n",
       "        [-6.24396199e+00, -5.01629665e+00],\n",
       "        [-1.07740013e+01, -2.57498378e+00],\n",
       "        [-7.57159572e+00,  1.99497862e+00],\n",
       "        [-6.82509877e+00, -2.56710126e+00],\n",
       "        [-2.46190795e+00, -2.58132188e+00],\n",
       "        [-2.54042735e+00, -5.38966324e+00],\n",
       "        [-8.40488031e+00,  6.73629042e+00],\n",
       "        [-5.83689474e+00,  2.05158278e+00],\n",
       "        [ 2.01364726e+00,  2.76868191e+00],\n",
       "        [-6.67897054e+00, -3.41563994e+00],\n",
       "        [-6.07496138e+00,  3.95480233e+00],\n",
       "        [ 2.53778211e+00,  1.95618583e-01],\n",
       "        [-1.22292526e+01, -2.43455123e+00],\n",
       "        [ 4.55870571e-01,  4.29990026e-02],\n",
       "        [-6.60961626e+00,  6.54235024e+00],\n",
       "        [-9.30744938e+00, -1.97617097e+00],\n",
       "        [ 1.02467470e+00,  6.10721440e-01],\n",
       "        [-4.27691067e+00, -2.38213558e+00],\n",
       "        [-6.29711542e+00,  6.87369628e+00],\n",
       "        [ 4.78268229e+00, -8.24443301e-01],\n",
       "        [-6.39900181e+00,  2.31723325e-01],\n",
       "        [-2.74493636e+00,  9.11417053e+00],\n",
       "        [ 2.13366344e+00, -1.22458210e-02],\n",
       "        [ 2.37314133e+00, -8.38970541e-01],\n",
       "        [-6.64192290e+00, -4.62580966e+00],\n",
       "        [-6.20199353e+00,  1.30672539e+00],\n",
       "        [-4.01183292e+00,  7.47536454e-03],\n",
       "        [-9.73595631e+00,  3.28279490e-01],\n",
       "        [-6.37741555e+00,  1.13799200e+00],\n",
       "        [-1.16561232e+01, -2.80207786e+00],\n",
       "        [-2.35936855e+00,  5.07055674e+00],\n",
       "        [-6.91092933e+00, -2.96007963e+00],\n",
       "        [-1.32991898e+00,  1.18142340e+00],\n",
       "        [-4.48147792e+00,  7.58601042e+00],\n",
       "        [ 1.00170070e+00, -1.93955368e+00],\n",
       "        [-6.76977972e+00,  3.86450888e+00],\n",
       "        [-4.69355498e+00, -5.06220649e-01],\n",
       "        [-6.96991556e+00, -2.78027832e+00],\n",
       "        [-7.05445754e+00, -1.18471256e+00],\n",
       "        [-8.45480891e+00,  1.23664390e+00],\n",
       "        [-5.33546676e+00,  6.60103598e+00],\n",
       "        [-5.91900621e-01, -1.47802989e+00]]),\n",
       " array([3, 2, 2, 3, 0, 0, 0, 3, 1, 0, 3, 0, 2, 2, 1, 0, 2, 3, 0, 0, 1, 3,\n",
       "        2, 3, 0, 2, 0, 1, 1, 0, 2, 0, 0, 3, 1, 2, 2, 0, 3, 3, 1, 3, 1, 3,\n",
       "        1, 2, 1, 1, 3, 1, 0, 1, 3, 0, 3, 2, 1, 3, 2, 0, 1, 2, 1, 0, 3, 0,\n",
       "        2, 2, 3, 2, 0, 0, 2, 1, 0, 2, 2, 2, 3, 2, 0, 1, 3, 2, 1, 1, 1, 0,\n",
       "        3, 2, 0, 1, 2, 3, 2, 0, 2, 2, 1, 1, 2, 1, 1, 3, 3, 2, 1, 0, 1, 0,\n",
       "        3, 3, 0, 3, 3, 1, 1, 3, 3, 3, 2, 1, 1, 2, 0, 1, 0, 3, 3, 0, 2, 2,\n",
       "        1, 1, 3, 1, 3, 2, 1, 1, 0, 3, 2, 2, 1, 2, 0, 2, 0, 0, 3, 3, 0, 2,\n",
       "        0, 1, 2, 0, 3, 1, 1, 3, 3, 3, 2, 2, 0, 3, 2, 0, 1, 0, 2, 1, 0, 3,\n",
       "        2, 0, 1, 2, 0, 0, 1, 3, 3, 1, 3, 1, 0, 1, 0, 2, 0, 2, 3, 3, 3, 1,\n",
       "        2, 0]))"
      ]
     },
     "execution_count": 53,
     "metadata": {},
     "output_type": "execute_result"
    }
   ],
   "source": [
    "raw_data"
   ]
  },
  {
   "cell_type": "code",
   "execution_count": 56,
   "id": "fde85b41",
   "metadata": {},
   "outputs": [],
   "source": [
    "from sklearn.cluster import KMeans"
   ]
  },
  {
   "cell_type": "code",
   "execution_count": 57,
   "id": "e6276bba",
   "metadata": {},
   "outputs": [
    {
     "data": {
      "image/png": "[encoded data removed]",
      "text/plain": [
       "<Figure size 432x288 with 1 Axes>"
      ]
     },
     "metadata": {
      "needs_background": "light"
     },
     "output_type": "display_data"
    }
   ],
   "source": [
    "from sklearn.metrics import silhouette_score\n",
    "silhouette_scores = [] \n",
    "\n",
    "for n_cluster in range(2,15):\n",
    "    silhouette_scores.append( \n",
    "        silhouette_score(raw_data[0], KMeans(n_clusters = n_cluster).fit_predict(raw_data[0]))) \n",
    "    \n",
    "# Plotting a bar graph to compare the results \n",
    "k = [2, 3, 4, 5, 6,7,8,9,10,11,12,13,14] \n",
    "plt.bar(k, silhouette_scores) \n",
    "plt.xlabel('Number of clusters', fontsize = 10) \n",
    "plt.ylabel('Silhouette Score', fontsize = 10) \n",
    "plt.grid()\n",
    "plt.show() \n"
   ]
  },
  {
   "cell_type": "code",
   "execution_count": 58,
   "id": "663d74d8",
   "metadata": {},
   "outputs": [],
   "source": [
    "from scipy.cluster.hierarchy import dendrogram, linkage\n"
   ]
  },
  {
   "cell_type": "code",
   "execution_count": 80,
   "id": "9316f07b",
   "metadata": {},
   "outputs": [
    {
     "data": {
      "image/png": "[encoded data removed]",
      "text/plain": [
       "<Figure size 432x288 with 1 Axes>"
      ]
     },
     "metadata": {
      "needs_background": "light"
     },
     "output_type": "display_data"
    }
   ],
   "source": [
    "import numpy as np\n",
    "from scipy.cluster.hierarchy import linkage, dendrogram\n",
    "import matplotlib.pyplot as plt\n",
    "\n",
    "numeric_data = df[['Age']].to_numpy()\n",
    "numeric_data = df[['Income (INR) (in lakhs per annum)']].to_numpy()\n",
    "\n",
    "\n",
    "merg = linkage(numeric_data, method=\"ward\")\n",
    "dendrogram(merg, leaf_rotation=90)\n",
    "plt.xlabel(\"data points\")\n",
    "plt.show()\n"
   ]
  },
  {
   "cell_type": "code",
   "execution_count": 71,
   "id": "9bd33c11",
   "metadata": {},
   "outputs": [
    {
     "data": {
      "text/plain": [
       "KMeans(n_clusters=3)"
      ]
     },
     "execution_count": 71,
     "metadata": {},
     "output_type": "execute_result"
    }
   ],
   "source": [
    "model1 = KMeans(n_clusters=3) #now we have taken k=3\n",
    "model1.fit(raw_data[0])"
   ]
  },
  {
   "cell_type": "code",
   "execution_count": 72,
   "id": "a1dea5d9",
   "metadata": {},
   "outputs": [
    {
     "data": {
      "image/png": "[encoded data removed]",
      "text/plain": [
       "<Figure size 720x432 with 2 Axes>"
      ]
     },
     "metadata": {
      "needs_background": "light"
     },
     "output_type": "display_data"
    }
   ],
   "source": [
    "f, (ax1, ax2) = plt.subplots(1, 2, sharey=True,figsize=(10,6))\n",
    "\n",
    "ax1.set_title('Our Model')\n",
    "\n",
    "ax1.scatter(raw_data[0][:,0], raw_data[0][:,1],c=model1.labels_)\n",
    "\n",
    "ax2.set_title('Original Data')\n",
    "\n",
    "ax2.scatter(raw_data[0][:,0], raw_data[0][:,1],c=raw_data[1])\n",
    "plt.show()"
   ]
  },
  {
   "cell_type": "code",
   "execution_count": null,
   "id": "f51e82be",
   "metadata": {},
   "outputs": [],
   "source": []
  }
 ],
 "metadata": {
  "kernelspec": {
   "display_name": "Python 3 (ipykernel)",
   "language": "python",
   "name": "python3"
  },
  "language_info": {
   "codemirror_mode": {
    "name": "ipython",
    "version": 3
   },
   "file_extension": ".py",
   "mimetype": "text/x-python",
   "name": "python",
   "nbconvert_exporter": "python",
   "pygments_lexer": "ipython3",
   "version": "3.9.12"
  }
 },
 "nbformat": 4,
 "nbformat_minor": 5
}
